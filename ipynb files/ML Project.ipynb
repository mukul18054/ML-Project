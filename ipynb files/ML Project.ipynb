{
  "nbformat": 4,
  "nbformat_minor": 0,
  "metadata": {
    "accelerator": "GPU",
    "colab": {
      "name": "MLproj.ipynb",
      "provenance": [],
      "collapsed_sections": []
    },
    "kernelspec": {
      "display_name": "Python 3",
      "name": "python3"
    }
  },
  "cells": [
    {
      "cell_type": "code",
      "metadata": {
        "colab": {
          "base_uri": "https://localhost:8080/"
        },
        "id": "QDe8_7SOTI8E",
        "outputId": "81bf5ff8-3e88-44ba-b5b5-f698d23e44b2"
      },
      "source": [
        "#ignore this (used google colab so have to read data from google drive)\n",
        "from google.colab import drive\n",
        "drive.mount('/content/gdrive')"
      ],
      "execution_count": 1,
      "outputs": [
        {
          "output_type": "stream",
          "text": [
            "Mounted at /content/gdrive\n"
          ],
          "name": "stdout"
        }
      ]
    },
    {
      "cell_type": "code",
      "metadata": {
        "colab": {
          "base_uri": "https://localhost:8080/"
        },
        "id": "ZsGuOoKqTLUy",
        "outputId": "0f32566b-e326-48c9-ed7b-39b9af32c290"
      },
      "source": [
        "#ignore this (used google colab so have to read data from google drive)\r\n",
        "cd gdrive"
      ],
      "execution_count": 2,
      "outputs": [
        {
          "output_type": "stream",
          "text": [
            "/content/gdrive\n"
          ],
          "name": "stdout"
        }
      ]
    },
    {
      "cell_type": "code",
      "metadata": {
        "colab": {
          "base_uri": "https://localhost:8080/"
        },
        "id": "en6J9wGQTNWa",
        "outputId": "4dbc5fff-790a-4ea7-d332-bf1c837da3eb"
      },
      "source": [
        "#ignore this (used google colab so have to read data from google drive)\r\n",
        "cd My\\ Drive"
      ],
      "execution_count": 3,
      "outputs": [
        {
          "output_type": "stream",
          "text": [
            "/content/gdrive/My Drive\n"
          ],
          "name": "stdout"
        }
      ]
    },
    {
      "cell_type": "code",
      "metadata": {
        "colab": {
          "base_uri": "https://localhost:8080/"
        },
        "id": "egg5g7FUTONB",
        "outputId": "576dd92b-682e-44be-e9c2-86d1a6df9880"
      },
      "source": [
        "#ignore this (used google colab so have to read data from google drive)\r\n",
        "cd data"
      ],
      "execution_count": 4,
      "outputs": [
        {
          "output_type": "stream",
          "text": [
            "/content/gdrive/My Drive/data\n"
          ],
          "name": "stdout"
        }
      ]
    },
    {
      "cell_type": "code",
      "metadata": {
        "id": "w_DiT78fSx62"
      },
      "source": [
        "import h5py\n",
        "import numpy as np\n",
        "import matplotlib.pyplot as plt\n",
        "import pandas as pd\n",
        "import random\n",
        "import seaborn as sns\n",
        "from sklearn.preprocessing import LabelEncoder\n",
        "from time import time\n",
        "def oneDigitY(y):\n",
        "    \"\"\"\n",
        "    \n",
        "\n",
        "    Parameters\n",
        "    ----------\n",
        "    y : np.array\n",
        "    of 2d array shape(n,m)\n",
        "\n",
        "    Returns\n",
        "    -------\n",
        "    1d array (n,)\n",
        "\n",
        "    \"\"\"\n",
        "    n = y.shape[0] \n",
        "    print(n)\n",
        "    newY = np.zeros(n,dtype=int)\n",
        "    for i in range(n):\n",
        "        num = np.where(y[i]==1)\n",
        "        num = num[0][0]\n",
        "        newY[i] = num\n",
        "    return newY\n",
        "    \n",
        "def describeData(X):\n",
        "    \"\"\"\n",
        "    \n",
        "\n",
        "    Parameters\n",
        "    ----------\n",
        "    X : np.array\n",
        "\n",
        "    Returns\n",
        "    -------\n",
        "    None.\n",
        "\n",
        "    \"\"\"\n",
        "    X = pd.DataFrame(X)\n",
        "    print(X[1:4])\n",
        "    return X.describe()\n",
        "\n",
        "def classFreqPlot(y):\n",
        "    \"\"\"\n",
        "    Parameters\n",
        "    ----------\n",
        "    y : np.array\n",
        "    of shape (n,)\n",
        "\n",
        "    Returns\n",
        "    -------\n",
        "    None.\n",
        "\n",
        "    \"\"\"\n",
        "    y = pd.DataFrame(y)\n",
        "    \n",
        "    classFreq = y[0].value_counts()\n",
        "    print(classFreq)\n",
        "    classFreq.plot.barh()\n",
        "    plt.show()\n",
        "    \n",
        "def displayNHandWrittenDigit(n,X,y):\n",
        "    fig=plt.figure(figsize=(8, 8))\n",
        "    columns = 4\n",
        "    rows = 4\n",
        "    # print(\"shape of y\",y.shape)\n",
        "    for i in range(1, columns*rows +1):\n",
        "        rndI = random.randint(1,4100)\n",
        "        image28x28 = np.reshape(X[rndI],(28,28))\n",
        "        fig.add_subplot(rows, columns, i)\n",
        "        plt.imshow(image28x28, cmap=\"gray\")\n",
        "        # num = np.where(y[rndI]==1)\n",
        "        # print(num)\n",
        "        # print(num[0][0])\n",
        "        num = y[rndI]\n",
        "        plt.title(\"Number = {}\".format(num))\n",
        "    fig.tight_layout()\n",
        "    plt.show()\n",
        "\n",
        "def pre_process(dataset):\n",
        "    \"\"\"\n",
        "    Reading the file and preprocessing the input and output.\n",
        "    Note that you will encode any string value and/or remove empty entries in this function only.\n",
        "    Further any pre processing steps have to be performed in this function too. \n",
        "\n",
        "    Parameters\n",
        "    ----------\n",
        "\n",
        "    dataset : integer with acceptable values 0, 1, or 2\n",
        "    0 -> Dataset A\n",
        "    1 -> Dataset B\n",
        "    2 -> Dataset C\n",
        "    \n",
        "    Returns\n",
        "    -------\n",
        "    X : 2-dimensional numpy array of shape (n_samples, n_features)\n",
        "    y : 2-dimensional numpy array of shape (n_samples,)\n",
        "    \"\"\"\n",
        "\n",
        "    # reading data file\n",
        "    \n",
        "    \n",
        "    # np.empty creates an empty array only. You have to replace this with your code.\n",
        "    X = np.empty((0,0))\n",
        "    y = np.empty((0))\n",
        "\n",
        "    if dataset == 0:\n",
        "        df = pd.read_csv ('train.csv')\n",
        "\n",
        "        df.dropna(inplace=True)\n",
        "        #shuffling both x and y \n",
        "        df = df.sample(frac=1,  random_state = 0).reset_index(drop=True)\n",
        "        # spliting back to x and y\n",
        "        \n",
        "        #first column is label\n",
        "        dataAY = df.iloc[1:,0]\n",
        "        \n",
        "        #rest are features\n",
        "        dataAX = df.iloc[1:,1:]\n",
        "        print(dataAX)\n",
        "        print(dataAY)\n",
        "        X = np.array(dataAX)\n",
        "        y = np.array(dataAY)\n",
        "    \n",
        "        # #Using Pearson Correlation\n",
        "        # plt.figure(figsize=(12,10))\n",
        "        # cor = df.corr()\n",
        "        # sns.heatmap(cor, annot=True, cmap=plt.cm.CMRmap_r)\n",
        "        # plt.show()\n",
        "    elif(dataset == 1):\n",
        "        df = pd.read_csv ('emnist-digits-train.csv')\n",
        "\n",
        "        df.dropna(inplace=True)\n",
        "        #shuffling both x and y \n",
        "        df = df.sample(frac=1,  random_state = 0).reset_index(drop=True)\n",
        "        # spliting back to x and y\n",
        "        \n",
        "        #first column is label\n",
        "        dataAY = df.iloc[1:,0]\n",
        "        \n",
        "        #rest are features\n",
        "        dataAX = df.iloc[1:,1:]\n",
        "        print(dataAX)\n",
        "        print(dataAY)\n",
        "        X = np.array(dataAX)\n",
        "        y = np.array(dataAY)\n",
        "  \n",
        "\n",
        "        \n",
        "    return X, y"
      ],
      "execution_count": 5,
      "outputs": []
    },
    {
      "cell_type": "code",
      "metadata": {
        "colab": {
          "base_uri": "https://localhost:8080/",
          "height": 1000
        },
        "id": "0IFzo0f2StUG",
        "outputId": "ab9606a6-63ba-47c2-c4ee-7df32509ebaa"
      },
      "source": [
        "from sklearn.model_selection import train_test_split\n",
        "import numpy as np\n",
        "import matplotlib.pyplot as plt\n",
        "import pandas as pd\n",
        "from sklearn.metrics import accuracy_score\n",
        "\n",
        "from sklearn.metrics import confusion_matrix\n",
        "X,y=pre_process(0)                                    ################### just change the dataset from here \n",
        "######################################################################### use 0 for mnist and 1 for emnist\n",
        "\n",
        "displayNHandWrittenDigit(20,X,y)\n",
        "\n",
        "#Each pixel value frequency\n",
        "# descTable = describeData(X)\n",
        "# print(descTable)\n",
        "\n",
        "\n",
        "print(\"class freq for y after stratified sampling\")\n",
        "classFreqPlot(y)\n",
        "\n",
        "print(\"initial features:\",len(X[0]))\n",
        "\n",
        "# #dropping the column with all 0's as it won't help our model\n",
        "# df = pd.DataFrame(X)\n",
        "# df = df.loc[:, (df != 0).any(axis=0)]\n",
        "# X = df.iloc[:, :]\n",
        "# X = np.array(X)\n",
        "\n",
        "# print(\"features after deleting column with all 0:\",len(X[0]))\n",
        "\n",
        "# from sklearn.preprocessing import StandardScaler\n",
        "# X = StandardScaler().fit_transform(X)\n",
        "\n",
        "# pre processing applying scaling for tsne so that we get a good plot\n",
        "from sklearn.preprocessing import StandardScaler\n",
        "X = StandardScaler().fit_transform(X)\n",
        "############ always run ends ##################################\n"
      ],
      "execution_count": 6,
      "outputs": [
        {
          "output_type": "stream",
          "text": [
            "       pixel0  pixel1  pixel2  pixel3  ...  pixel780  pixel781  pixel782  pixel783\n",
            "1           0       0       0       0  ...         0         0         0         0\n",
            "2           0       0       0       0  ...         0         0         0         0\n",
            "3           0       0       0       0  ...         0         0         0         0\n",
            "4           0       0       0       0  ...         0         0         0         0\n",
            "5           0       0       0       0  ...         0         0         0         0\n",
            "...       ...     ...     ...     ...  ...       ...       ...       ...       ...\n",
            "41995       0       0       0       0  ...         0         0         0         0\n",
            "41996       0       0       0       0  ...         0         0         0         0\n",
            "41997       0       0       0       0  ...         0         0         0         0\n",
            "41998       0       0       0       0  ...         0         0         0         0\n",
            "41999       0       0       0       0  ...         0         0         0         0\n",
            "\n",
            "[41999 rows x 784 columns]\n",
            "1        6\n",
            "2        9\n",
            "3        5\n",
            "4        6\n",
            "5        5\n",
            "        ..\n",
            "41995    6\n",
            "41996    1\n",
            "41997    9\n",
            "41998    0\n",
            "41999    9\n",
            "Name: label, Length: 41999, dtype: int64\n"
          ],
          "name": "stdout"
        },
        {
          "output_type": "display_data",
          "data": {
            "image/png": "[encoded data removed]",
            "text/plain": [
              "<Figure size 576x576 with 16 Axes>"
            ]
          },
          "metadata": {
            "tags": [],
            "needs_background": "light"
          }
        },
        {
          "output_type": "stream",
          "text": [
            "class freq for y after stratified sampling\n",
            "1    4684\n",
            "7    4401\n",
            "3    4350\n",
            "9    4188\n",
            "2    4177\n",
            "6    4137\n",
            "0    4132\n",
            "4    4072\n",
            "8    4063\n",
            "5    3795\n",
            "Name: 0, dtype: int64\n"
          ],
          "name": "stdout"
        },
        {
          "output_type": "display_data",
          "data": {
            "image/png": "[encoded data removed]",
            "text/plain": [
              "<Figure size 432x288 with 1 Axes>"
            ]
          },
          "metadata": {
            "tags": [],
            "needs_background": "light"
          }
        },
        {
          "output_type": "stream",
          "text": [
            "initial features: 784\n"
          ],
          "name": "stdout"
        }
      ]
    },
    {
      "cell_type": "code",
      "metadata": {
        "colab": {
          "base_uri": "https://localhost:8080/",
          "height": 931
        },
        "id": "98Gcg8F1SoZv",
        "outputId": "9fb74db0-ac8e-4a27-a3d1-2b40cc0323ab"
      },
      "source": [
        "\n",
        "###################### PCA  do X = (X - mean(X)) / std(X).  ###############\n",
        "from sklearn.decomposition import PCA\n",
        "pca=PCA(50) # else some column will have std as 0 and due to which divide by 0 error\n",
        "#so it may give SVD did not converge\n",
        "\n",
        "pcaX=pca.fit_transform(X)\n",
        "print(\"Features after PCA:\",len(pcaX[0]))\n",
        "\n",
        "# #Using Pearson Correlation (after PCA to analyze the correlation between data)\n",
        "# plt.figure(figsize=(32,30))\n",
        "# df = pd.DataFrame(pcaX)\n",
        "# cor = df.corr()\n",
        "# sns.heatmap(cor, annot=True, cmap=plt.cm.CMRmap_r)\n",
        "# plt.show()\n",
        "\n",
        "##################### split ################\n",
        "X_train, X_test, y_train, y_test = train_test_split(pcaX, y,stratify=y,test_size=0.20,random_state = 1)\n",
        "\n",
        "print(\"class freq for ytrain after stratified sampling\")\n",
        "classFreqPlot(y_train)\n",
        "\n",
        "print(\"class freq for ytest after stratified sampling\")\n",
        "classFreqPlot(y_test)\n",
        "##################### split end ################\n"
      ],
      "execution_count": 7,
      "outputs": [
        {
          "output_type": "stream",
          "text": [
            "Features after PCA: 50\n",
            "class freq for ytrain after stratified sampling\n",
            "1    3747\n",
            "7    3521\n",
            "3    3480\n",
            "9    3350\n",
            "2    3341\n",
            "6    3310\n",
            "0    3306\n",
            "4    3258\n",
            "8    3250\n",
            "5    3036\n",
            "Name: 0, dtype: int64\n"
          ],
          "name": "stdout"
        },
        {
          "output_type": "display_data",
          "data": {
            "image/png": "[encoded data removed]",
            "text/plain": [
              "<Figure size 432x288 with 1 Axes>"
            ]
          },
          "metadata": {
            "tags": [],
            "needs_background": "light"
          }
        },
        {
          "output_type": "stream",
          "text": [
            "class freq for ytest after stratified sampling\n",
            "1    937\n",
            "7    880\n",
            "3    870\n",
            "9    838\n",
            "2    836\n",
            "6    827\n",
            "0    826\n",
            "4    814\n",
            "8    813\n",
            "5    759\n",
            "Name: 0, dtype: int64\n"
          ],
          "name": "stdout"
        },
        {
          "output_type": "display_data",
          "data": {
            "image/png": "[encoded data removed]",
            "text/plain": [
              "<Figure size 432x288 with 1 Axes>"
            ]
          },
          "metadata": {
            "tags": [],
            "needs_background": "light"
          }
        }
      ]
    },
    {
      "cell_type": "code",
      "metadata": {
        "id": "2XyJvKZaSKhe",
        "colab": {
          "base_uri": "https://localhost:8080/",
          "height": 931
        },
        "outputId": "7f5185b1-7070-4fcc-bc97-a409e814ea92"
      },
      "source": [
        "################# SVD ################## (can be ignored, pca is enough)\n",
        "from sklearn.decomposition import TruncatedSVD\n",
        "svd = TruncatedSVD(50)\n",
        "#fit and transform on X\n",
        "svdX = svd.fit_transform(X)\n",
        "print(\"Features after SVD:\",len(svdX[0]))\n",
        "\n",
        "X_train, X_test, y_train, y_test = train_test_split(svdX, y,stratify=y,test_size=0.20,random_state = 1)\n",
        "\n",
        "print(\"class freq for ytrain after stratified sampling\")\n",
        "classFreqPlot(y_train)\n",
        "print(\"class freq for ytest after stratified sampling\")\n",
        "classFreqPlot(y_test)\n"
      ],
      "execution_count": 8,
      "outputs": [
        {
          "output_type": "stream",
          "text": [
            "Features after SVD: 50\n",
            "class freq for ytrain after stratified sampling\n",
            "1    3747\n",
            "7    3521\n",
            "3    3480\n",
            "9    3350\n",
            "2    3341\n",
            "6    3310\n",
            "0    3306\n",
            "4    3258\n",
            "8    3250\n",
            "5    3036\n",
            "Name: 0, dtype: int64\n"
          ],
          "name": "stdout"
        },
        {
          "output_type": "display_data",
          "data": {
            "image/png": "[encoded data removed]",
            "text/plain": [
              "<Figure size 432x288 with 1 Axes>"
            ]
          },
          "metadata": {
            "tags": [],
            "needs_background": "light"
          }
        },
        {
          "output_type": "stream",
          "text": [
            "class freq for ytest after stratified sampling\n",
            "1    937\n",
            "7    880\n",
            "3    870\n",
            "9    838\n",
            "2    836\n",
            "6    827\n",
            "0    826\n",
            "4    814\n",
            "8    813\n",
            "5    759\n",
            "Name: 0, dtype: int64\n"
          ],
          "name": "stdout"
        },
        {
          "output_type": "display_data",
          "data": {
            "image/png": "[encoded data removed]",
            "text/plain": [
              "<Figure size 432x288 with 1 Axes>"
            ]
          },
          "metadata": {
            "tags": [],
            "needs_background": "light"
          }
        }
      ]
    },
    {
      "cell_type": "code",
      "metadata": {
        "colab": {
          "base_uri": "https://localhost:8080/",
          "height": 368
        },
        "id": "eluuipw-_fqF",
        "outputId": "a4dd2d20-8d5a-45c6-d7cf-75882a350c7e"
      },
      "source": [
        "##TSNE for visualization\n",
        "from sklearn.manifold import TSNE\n",
        "tX_train = TSNE(n_components=2).fit_transform(X_train[:3360]) #taking only first 3360 data for visualization\n",
        "\n",
        "\n",
        "#adding the label\n",
        "matYtrain = np.mat(y_train[:3360]).transpose()\n",
        "XY_train = np.array(np.hstack((tX_train, matYtrain)),dtype = float)\n",
        "print(XY_train.shape)\n",
        "print(XY_train[2])\n",
        "import seaborn as sns\n",
        "sns.scatterplot(XY_train[:,0],XY_train[:,1],hue=XY_train[:,2], palette=\"bright\")"
      ],
      "execution_count": 9,
      "outputs": [
        {
          "output_type": "stream",
          "text": [
            "(3360, 3)\n",
            "[-52.12845993   7.97761583   9.        ]\n"
          ],
          "name": "stdout"
        },
        {
          "output_type": "stream",
          "text": [
            "/usr/local/lib/python3.6/dist-packages/seaborn/_decorators.py:43: FutureWarning: Pass the following variables as keyword args: x, y. From version 0.12, the only valid positional argument will be `data`, and passing other arguments without an explicit keyword will result in an error or misinterpretation.\n",
            "  FutureWarning\n"
          ],
          "name": "stderr"
        },
        {
          "output_type": "execute_result",
          "data": {
            "text/plain": [
              "<matplotlib.axes._subplots.AxesSubplot at 0x7f169670d550>"
            ]
          },
          "metadata": {
            "tags": []
          },
          "execution_count": 9
        },
        {
          "output_type": "display_data",
          "data": {
            "image/png": "[encoded data removed]",
            "text/plain": [
              "<Figure size 432x288 with 1 Axes>"
            ]
          },
          "metadata": {
            "tags": [],
            "needs_background": "light"
          }
        }
      ]
    },
    {
      "cell_type": "code",
      "metadata": {
        "colab": {
          "base_uri": "https://localhost:8080/"
        },
        "id": "hKRyWr-FSh4k",
        "outputId": "6c5113d4-a7d4-4df7-feb8-48840b0ab9ea"
      },
      "source": [
        "start = time()\n",
        "####################### now using GNB ################################# (bad with 50d)\n",
        "from sklearn.naive_bayes import GaussianNB\n",
        "classifier = GaussianNB()\n",
        "#training on X_train\n",
        "classifier.fit(X_train, y_train)    \n",
        "# Predict on X_test\n",
        "y_pred = classifier.predict(X_test)\n",
        "#for accuracy using sklearn accuracy_score\n",
        "AccuracyScore = accuracy_score(y_test, y_pred)\n",
        "print(\"Testing accuracy:\", AccuracyScore)\n",
        "print(time() - start)"
      ],
      "execution_count": 10,
      "outputs": [
        {
          "output_type": "stream",
          "text": [
            "Testing accuracy: 0.7147619047619047\n",
            "0.05642271041870117\n"
          ],
          "name": "stdout"
        }
      ]
    },
    {
      "cell_type": "code",
      "metadata": {
        "colab": {
          "base_uri": "https://localhost:8080/"
        },
        "id": "p_nbAeqhSfLl",
        "outputId": "d31bafbb-2036-40b8-d110-c33d6275143b"
      },
      "source": [
        "start = time()\n",
        "#######################  grid search on D.T #################################\n",
        "from sklearn.model_selection import GridSearchCV\n",
        "from sklearn.tree import DecisionTreeClassifier\n",
        "\n",
        "grid_param = {\n",
        "    'max_depth': [3, 6, 9, 11,13, 15, 21],\n",
        "    'criterion': ['gini']\n",
        "    }\n",
        "gdsrcv = GridSearchCV(estimator=DecisionTreeClassifier(), param_grid=grid_param, scoring='accuracy', n_jobs=-1)\n",
        "gdsrcv.fit(X_train, y_train)\n",
        "best_parameters = gdsrcv.best_params_\n",
        "print(best_parameters)\n",
        "print(time() - start)"
      ],
      "execution_count": 11,
      "outputs": [
        {
          "output_type": "stream",
          "text": [
            "{'criterion': 'gini', 'max_depth': 15}\n",
            "47.864356994628906\n"
          ],
          "name": "stdout"
        }
      ]
    },
    {
      "cell_type": "code",
      "metadata": {
        "colab": {
          "base_uri": "https://localhost:8080/"
        },
        "id": "xI1M4FGKScGt",
        "outputId": "7e4088ad-44fe-4722-e34e-89e6ee90586d"
      },
      "source": [
        "start = time()\n",
        "#bad with 50D\n",
        "from sklearn.tree import DecisionTreeClassifier\n",
        "classifier = DecisionTreeClassifier(max_depth = 15, criterion = 'gini', random_state = 1,class_weight='balanced')\n",
        "classifier.fit(X_train, y_train)        \n",
        "# Predict on X_test\n",
        "y_pred = classifier.predict(X_test)\n",
        "#for accuracy using sklearn accuracy_score\n",
        "AccuracyScore = accuracy_score(y_test, y_pred)\n",
        "print(\"Testing accuracy:\", AccuracyScore)\n",
        "print(time() - start)"
      ],
      "execution_count": 12,
      "outputs": [
        {
          "output_type": "stream",
          "text": [
            "Testing accuracy: 0.8275\n",
            "2.8859455585479736\n"
          ],
          "name": "stdout"
        }
      ]
    },
    {
      "cell_type": "code",
      "metadata": {
        "colab": {
          "base_uri": "https://localhost:8080/"
        },
        "id": "tFJ9mmAMS636",
        "outputId": "89c3d5bc-695e-4895-a68c-26ae4bd3e897"
      },
      "source": [
        "start = time()\n",
        "#good with 50D\n",
        "#fitting and predicting using logistic on train and test data\n",
        "from sklearn.linear_model import LogisticRegression\n",
        "clf = LogisticRegression(random_state=0, n_jobs = -1, max_iter = 1000)\n",
        "clf.fit(X_train, y_train)\n",
        "y_pred = clf.predict(X_test)\n",
        "\n",
        "#for accuracy using sklearn accuracy_score\n",
        "AccuracyScore = accuracy_score(y_test, y_pred)\n",
        "print(\"Testing accuracy:\", AccuracyScore)\n",
        "print(time() - start)"
      ],
      "execution_count": null,
      "outputs": [
        {
          "output_type": "stream",
          "text": [
            "Testing accuracy: 0.9023809523809524\n",
            "10.822157144546509\n"
          ],
          "name": "stdout"
        }
      ]
    },
    {
      "cell_type": "code",
      "metadata": {
        "id": "MPqLS_uVSZlm"
      },
      "source": [
        "######################### Random forest after Gridsearch ##########################3\n",
        "from sklearn.model_selection import GridSearchCV\n",
        "from sklearn.ensemble import RandomForestClassifier\n",
        "grid_param = {\n",
        "    'n_estimators': [10, 50, 100, 300, 700],\n",
        "    'max_depth': [3, 6, 9, 11,13, 15, 21],\n",
        "    'criterion': ['gini'],\n",
        "    'bootstrap': [True]\n",
        "}\n",
        "\n",
        "gdsrcv = GridSearchCV(estimator=RandomForestClassifier(), param_grid=grid_param, scoring='accuracy', cv=5, n_jobs=-1)\n",
        "gdsrcv.fit(X_train, y_train)\n",
        "best_parameters = gdsrcv.best_params_\n",
        "print(best_parameters)"
      ],
      "execution_count": null,
      "outputs": []
    },
    {
      "cell_type": "code",
      "metadata": {
        "colab": {
          "base_uri": "https://localhost:8080/"
        },
        "id": "5yZix83JSW9q",
        "outputId": "670eb7b0-b5e7-4c89-abc5-7f4de82d1afc"
      },
      "source": [
        "start = time()\n",
        "from sklearn.ensemble import RandomForestClassifier\n",
        "classifier = RandomForestClassifier(max_depth = 15,bootstrap = True, n_estimators = 1000, criterion = 'gini', random_state = 0,n_jobs = -1)\n",
        "classifier.fit(X_train, y_train)\n",
        "\n",
        "y_pred = classifier.predict(X_test)\n",
        "#for accuracy using sklearn accuracy_score\n",
        "AccuracyScore = accuracy_score(y_test, y_pred)\n",
        "print(\"Testing accuracy:\", AccuracyScore)\n",
        "#30D - 92, 50D - 93.9\n",
        "print(time() - start)"
      ],
      "execution_count": null,
      "outputs": [
        {
          "output_type": "stream",
          "text": [
            "Testing accuracy: 0.9395238095238095\n",
            "188.1144278049469\n"
          ],
          "name": "stdout"
        }
      ]
    },
    {
      "cell_type": "code",
      "metadata": {
        "colab": {
          "base_uri": "https://localhost:8080/"
        },
        "id": "_SYR5uJrXdbJ",
        "outputId": "2ba92ffb-ed1a-4581-f573-2ab8f2c92cdd"
      },
      "source": [
        "start = time()\n",
        "# Training the K-NN model on the Training set\n",
        "from sklearn.neighbors import KNeighborsClassifier\n",
        "classifier = KNeighborsClassifier(n_neighbors = 5, metric = 'minkowski',n_jobs = -1)\n",
        "classifier.fit(X_train, y_train)\n",
        "# Predicting the Test set results\n",
        "y_pred = classifier.predict(X_test)\n",
        "#for accuracy using sklearn accuracy_score\n",
        "AccuracyScore = accuracy_score(y_test, y_pred)\n",
        "print(\"Testing accuracy:\", AccuracyScore)\n",
        "#30D - 95, 50D - 95.7\n",
        "print(time() - start)"
      ],
      "execution_count": null,
      "outputs": [
        {
          "output_type": "stream",
          "text": [
            "Testing accuracy: 0.9566666666666667\n",
            "17.020087957382202\n"
          ],
          "name": "stdout"
        }
      ]
    },
    {
      "cell_type": "code",
      "metadata": {
        "colab": {
          "base_uri": "https://localhost:8080/"
        },
        "id": "FqvsMUn_hXZc",
        "outputId": "ffb08beb-2e40-4d27-d350-c866aee77e86"
      },
      "source": [
        "start = time()\n",
        "#SVC classifier\n",
        "from sklearn.svm import SVC\n",
        "classifier = SVC(probability=True,random_state=1)\n",
        "classifier.fit(X_train, y_train)\n",
        "# Predicting the Test set results\n",
        "y_pred = classifier.predict(X_test)\n",
        "#for accuracy using sklearn accuracy_score\n",
        "AccuracyScore = accuracy_score(y_test, y_pred)\n",
        "print(\"Testing accuracy:\", AccuracyScore)\n",
        "#30D - 0.96 , 50D - 96.6\n",
        "print(time() - start)"
      ],
      "execution_count": null,
      "outputs": [
        {
          "output_type": "stream",
          "text": [
            "Testing accuracy: 0.9670238095238095\n",
            "114.5032320022583\n"
          ],
          "name": "stdout"
        }
      ]
    },
    {
      "cell_type": "code",
      "metadata": {
        "colab": {
          "base_uri": "https://localhost:8080/"
        },
        "id": "F17RJR4yi2fu",
        "outputId": "52056b65-7386-46bd-8b4e-a12f33dab848"
      },
      "source": [
        "from time import time\n",
        "start = time()\n",
        "from sklearn.neural_network import MLPClassifier\n",
        "classifier = MLPClassifier(hidden_layer_sizes=(200, ), random_state=1 ,max_iter=2000, learning_rate_init=0.01,warm_start=True)\n",
        "classifier.fit(X_train, y_train)\n",
        "# Predicting the Test set results\n",
        "# print(X_train.shape)\n",
        "y_pred = classifier.predict(X_test)\n",
        "#for accuracy using sklearn accuracy_score\n",
        "AccuracyScore = accuracy_score(y_test, y_pred)\n",
        "print(\"Testing accuracy:\", AccuracyScore)\n",
        "#30D - 0.972, 50D - 97.262\n",
        "print(time() - start)"
      ],
      "execution_count": 20,
      "outputs": [
        {
          "output_type": "stream",
          "text": [
            "Testing accuracy: 0.9692857142857143\n",
            "28.001214027404785\n"
          ],
          "name": "stdout"
        }
      ]
    },
    {
      "cell_type": "code",
      "metadata": {
        "colab": {
          "base_uri": "https://localhost:8080/"
        },
        "id": "U9EqWSLAUK3M",
        "outputId": "6bfd2b97-cea7-4296-d781-25a45a624998"
      },
      "source": [
        "from time import time\n",
        "start = time()\n",
        "############ also using keras #######3\n",
        "import keras\n",
        "from keras.datasets import mnist\n",
        "from keras.models import Sequential\n",
        "from keras.layers import Dense, Dropout, Flatten, Conv2D, MaxPooling2D\n",
        "from keras import backend as k\n",
        "from keras.datasets import mnist\n",
        "from keras.utils import np_utils\n",
        "#load mnist dataset\n",
        "(X_train, y_train), (X_test, y_test) = mnist.load_data()\n",
        "print(\"X_train shape\", X_train.shape)\n",
        "print(\"y_train shape\", y_train.shape)\n",
        "print(\"X_test shape\", X_test.shape)\n",
        "print(\"y_test shape\", y_test.shape)\n",
        "#reshaping\n",
        "X_train = X_train.reshape(X_train.shape[0], 28, 28, 1)\n",
        "X_test = X_test.reshape(X_test.shape[0], 28, 28, 1)\n",
        "input_shape = (28, 28, 1)\n",
        "#more reshaping\n",
        "X_train = X_train.astype('float32')\n",
        "X_test = X_test.astype('float32')\n",
        "X_train /= 255\n",
        "X_test /= 255\n",
        "print('X_train shape:', X_train.shape)\n",
        "print(X_train.shape[0], 'train samples')\n",
        "print(X_test.shape[0], 'test samples')\n",
        "#set number of categories\n",
        "num_category = 10\n",
        "print(np.unique(y_train, return_counts=True))\n",
        "# convert class vectors to binary class matrices\n",
        "y_train = keras.utils.to_categorical(y_train, num_category)\n",
        "y_test = keras.utils.to_categorical(y_test, num_category)\n",
        "y_train[0]\n",
        "\n",
        "##model building for assignment only\n",
        "model = Sequential()\n",
        "\n",
        "# #flatten since too many dimensions, we only want a classification output\n",
        "model.add(Flatten())\n",
        "#fully connected to get all relevant data\n",
        "model.add(Dense(600, activation='tanh'))\n",
        "model.add(Dense(500, activation='tanh'))\n",
        "model.add(Dense(400, activation='tanh'))\n",
        "model.add(Dense(300, activation='tanh'))\n",
        "model.add(Dense(200, activation='tanh'))\n",
        "model.add(Dense(100, activation='tanh'))\n",
        "model.add(Dense(50, activation='tanh'))\n",
        "model.add(Dense(25, activation='tanh'))\n",
        "#output activation softmax\n",
        "model.add(Dense(num_category, activation='softmax'))\n",
        "model.compile(loss=keras.losses.categorical_crossentropy, optimizer=keras.optimizers.Adadelta(), metrics=['accuracy'])\n",
        "\n",
        "batch_size = 10\n",
        "num_epoch = 50\n",
        "#model training\n",
        "model_log = model.fit(X_train, y_train, batch_size=batch_size, epochs=num_epoch, verbose=1, validation_data=(X_test, y_test), workers = 6)\n",
        "print(time()-start)\n",
        "\n",
        "##### if we increase the number of hidden layers then our models get complex and hence we get more accuracy so here we have taken 8 hidden units and batch size is 10\n",
        "# and for epochs = 50, we can see that it's not completely converged and we are getting accuracy of around 95% which can be further increased by increasing the number of epochs, and hidden layer and by decresing the batch size.\n",
        "# to further increase the accuracy we can do the data augmentation of training data by using random fliping, rotation and cropping."
      ],
      "execution_count": 32,
      "outputs": [
        {
          "output_type": "stream",
          "text": [
            "X_train shape (60000, 28, 28)\n",
            "y_train shape (60000,)\n",
            "X_test shape (10000, 28, 28)\n",
            "y_test shape (10000,)\n",
            "X_train shape: (60000, 28, 28, 1)\n",
            "60000 train samples\n",
            "10000 test samples\n",
            "(array([0, 1, 2, 3, 4, 5, 6, 7, 8, 9], dtype=uint8), array([5923, 6742, 5958, 6131, 5842, 5421, 5918, 6265, 5851, 5949]))\n",
            "Epoch 1/50\n",
            "6000/6000 [==============================] - 17s 3ms/step - loss: 1.7789 - accuracy: 0.4989 - val_loss: 1.0990 - val_accuracy: 0.7917\n",
            "Epoch 2/50\n",
            "6000/6000 [==============================] - 18s 3ms/step - loss: 1.0367 - accuracy: 0.8016 - val_loss: 0.8781 - val_accuracy: 0.8423\n",
            "Epoch 3/50\n",
            "6000/6000 [==============================] - 17s 3ms/step - loss: 0.8526 - accuracy: 0.8466 - val_loss: 0.7622 - val_accuracy: 0.8698\n",
            "Epoch 4/50\n",
            "6000/6000 [==============================] - 17s 3ms/step - loss: 0.7522 - accuracy: 0.8621 - val_loss: 0.6852 - val_accuracy: 0.8817\n",
            "Epoch 5/50\n",
            "6000/6000 [==============================] - 16s 3ms/step - loss: 0.6764 - accuracy: 0.8782 - val_loss: 0.6280 - val_accuracy: 0.8891\n",
            "Epoch 6/50\n",
            "6000/6000 [==============================] - 17s 3ms/step - loss: 0.6272 - accuracy: 0.8845 - val_loss: 0.5823 - val_accuracy: 0.8943\n",
            "Epoch 7/50\n",
            "6000/6000 [==============================] - 17s 3ms/step - loss: 0.5810 - accuracy: 0.8928 - val_loss: 0.5448 - val_accuracy: 0.8996\n",
            "Epoch 8/50\n",
            "6000/6000 [==============================] - 17s 3ms/step - loss: 0.5465 - accuracy: 0.8957 - val_loss: 0.5133 - val_accuracy: 0.9027\n",
            "Epoch 9/50\n",
            "6000/6000 [==============================] - 18s 3ms/step - loss: 0.5128 - accuracy: 0.9028 - val_loss: 0.4867 - val_accuracy: 0.9065\n",
            "Epoch 10/50\n",
            "6000/6000 [==============================] - 17s 3ms/step - loss: 0.4886 - accuracy: 0.9057 - val_loss: 0.4631 - val_accuracy: 0.9102\n",
            "Epoch 11/50\n",
            "6000/6000 [==============================] - 17s 3ms/step - loss: 0.4610 - accuracy: 0.9111 - val_loss: 0.4424 - val_accuracy: 0.9123\n",
            "Epoch 12/50\n",
            "6000/6000 [==============================] - 17s 3ms/step - loss: 0.4421 - accuracy: 0.9114 - val_loss: 0.4238 - val_accuracy: 0.9144\n",
            "Epoch 13/50\n",
            "6000/6000 [==============================] - 17s 3ms/step - loss: 0.4214 - accuracy: 0.9150 - val_loss: 0.4075 - val_accuracy: 0.9169\n",
            "Epoch 14/50\n",
            "6000/6000 [==============================] - 18s 3ms/step - loss: 0.4089 - accuracy: 0.9165 - val_loss: 0.3930 - val_accuracy: 0.9186\n",
            "Epoch 15/50\n",
            "6000/6000 [==============================] - 17s 3ms/step - loss: 0.3922 - accuracy: 0.9191 - val_loss: 0.3795 - val_accuracy: 0.9211\n",
            "Epoch 16/50\n",
            "6000/6000 [==============================] - 17s 3ms/step - loss: 0.3794 - accuracy: 0.9197 - val_loss: 0.3676 - val_accuracy: 0.9235\n",
            "Epoch 17/50\n",
            "6000/6000 [==============================] - 18s 3ms/step - loss: 0.3708 - accuracy: 0.9208 - val_loss: 0.3566 - val_accuracy: 0.9240\n",
            "Epoch 18/50\n",
            "6000/6000 [==============================] - 17s 3ms/step - loss: 0.3558 - accuracy: 0.9246 - val_loss: 0.3462 - val_accuracy: 0.9255\n",
            "Epoch 19/50\n",
            "6000/6000 [==============================] - 17s 3ms/step - loss: 0.3479 - accuracy: 0.9248 - val_loss: 0.3367 - val_accuracy: 0.9269\n",
            "Epoch 20/50\n",
            "6000/6000 [==============================] - 18s 3ms/step - loss: 0.3369 - accuracy: 0.9269 - val_loss: 0.3278 - val_accuracy: 0.9281\n",
            "Epoch 21/50\n",
            "6000/6000 [==============================] - 18s 3ms/step - loss: 0.3260 - accuracy: 0.9288 - val_loss: 0.3202 - val_accuracy: 0.9281\n",
            "Epoch 22/50\n",
            "6000/6000 [==============================] - 18s 3ms/step - loss: 0.3226 - accuracy: 0.9282 - val_loss: 0.3132 - val_accuracy: 0.9304\n",
            "Epoch 23/50\n",
            "6000/6000 [==============================] - 17s 3ms/step - loss: 0.3137 - accuracy: 0.9303 - val_loss: 0.3056 - val_accuracy: 0.9321\n",
            "Epoch 24/50\n",
            "6000/6000 [==============================] - 18s 3ms/step - loss: 0.3037 - accuracy: 0.9329 - val_loss: 0.2993 - val_accuracy: 0.9327\n",
            "Epoch 25/50\n",
            "6000/6000 [==============================] - 17s 3ms/step - loss: 0.2948 - accuracy: 0.9345 - val_loss: 0.2929 - val_accuracy: 0.9337\n",
            "Epoch 26/50\n",
            "6000/6000 [==============================] - 17s 3ms/step - loss: 0.2920 - accuracy: 0.9335 - val_loss: 0.2870 - val_accuracy: 0.9345\n",
            "Epoch 27/50\n",
            "6000/6000 [==============================] - 17s 3ms/step - loss: 0.2853 - accuracy: 0.9357 - val_loss: 0.2815 - val_accuracy: 0.9351\n",
            "Epoch 28/50\n",
            "6000/6000 [==============================] - 17s 3ms/step - loss: 0.2833 - accuracy: 0.9348 - val_loss: 0.2765 - val_accuracy: 0.9363\n",
            "Epoch 29/50\n",
            "6000/6000 [==============================] - 17s 3ms/step - loss: 0.2749 - accuracy: 0.9377 - val_loss: 0.2714 - val_accuracy: 0.9371\n",
            "Epoch 30/50\n",
            "6000/6000 [==============================] - 18s 3ms/step - loss: 0.2686 - accuracy: 0.9389 - val_loss: 0.2669 - val_accuracy: 0.9392\n",
            "Epoch 31/50\n",
            "6000/6000 [==============================] - 17s 3ms/step - loss: 0.2642 - accuracy: 0.9386 - val_loss: 0.2624 - val_accuracy: 0.9385\n",
            "Epoch 32/50\n",
            "6000/6000 [==============================] - 18s 3ms/step - loss: 0.2610 - accuracy: 0.9396 - val_loss: 0.2583 - val_accuracy: 0.9401\n",
            "Epoch 33/50\n",
            "6000/6000 [==============================] - 17s 3ms/step - loss: 0.2541 - accuracy: 0.9416 - val_loss: 0.2543 - val_accuracy: 0.9402\n",
            "Epoch 34/50\n",
            "6000/6000 [==============================] - 17s 3ms/step - loss: 0.2537 - accuracy: 0.9411 - val_loss: 0.2504 - val_accuracy: 0.9407\n",
            "Epoch 35/50\n",
            "6000/6000 [==============================] - 18s 3ms/step - loss: 0.2503 - accuracy: 0.9415 - val_loss: 0.2467 - val_accuracy: 0.9419\n",
            "Epoch 36/50\n",
            "6000/6000 [==============================] - 17s 3ms/step - loss: 0.2459 - accuracy: 0.9426 - val_loss: 0.2433 - val_accuracy: 0.9417\n",
            "Epoch 37/50\n",
            "6000/6000 [==============================] - 18s 3ms/step - loss: 0.2382 - accuracy: 0.9440 - val_loss: 0.2400 - val_accuracy: 0.9432\n",
            "Epoch 38/50\n",
            "6000/6000 [==============================] - 17s 3ms/step - loss: 0.2343 - accuracy: 0.9456 - val_loss: 0.2367 - val_accuracy: 0.9433\n",
            "Epoch 39/50\n",
            "6000/6000 [==============================] - 17s 3ms/step - loss: 0.2360 - accuracy: 0.9435 - val_loss: 0.2334 - val_accuracy: 0.9437\n",
            "Epoch 40/50\n",
            "6000/6000 [==============================] - 18s 3ms/step - loss: 0.2263 - accuracy: 0.9476 - val_loss: 0.2310 - val_accuracy: 0.9441\n",
            "Epoch 41/50\n",
            "6000/6000 [==============================] - 17s 3ms/step - loss: 0.2274 - accuracy: 0.9467 - val_loss: 0.2279 - val_accuracy: 0.9442\n",
            "Epoch 42/50\n",
            "6000/6000 [==============================] - 17s 3ms/step - loss: 0.2265 - accuracy: 0.9462 - val_loss: 0.2247 - val_accuracy: 0.9440\n",
            "Epoch 43/50\n",
            "6000/6000 [==============================] - 17s 3ms/step - loss: 0.2202 - accuracy: 0.9472 - val_loss: 0.2217 - val_accuracy: 0.9454\n",
            "Epoch 44/50\n",
            "6000/6000 [==============================] - 18s 3ms/step - loss: 0.2186 - accuracy: 0.9478 - val_loss: 0.2196 - val_accuracy: 0.9451\n",
            "Epoch 45/50\n",
            "6000/6000 [==============================] - 17s 3ms/step - loss: 0.2154 - accuracy: 0.9472 - val_loss: 0.2168 - val_accuracy: 0.9464\n",
            "Epoch 46/50\n",
            "6000/6000 [==============================] - 17s 3ms/step - loss: 0.2094 - accuracy: 0.9508 - val_loss: 0.2144 - val_accuracy: 0.9474\n",
            "Epoch 47/50\n",
            "6000/6000 [==============================] - 17s 3ms/step - loss: 0.2105 - accuracy: 0.9494 - val_loss: 0.2120 - val_accuracy: 0.9472\n",
            "Epoch 48/50\n",
            "6000/6000 [==============================] - 17s 3ms/step - loss: 0.2049 - accuracy: 0.9509 - val_loss: 0.2095 - val_accuracy: 0.9481\n",
            "Epoch 49/50\n",
            "6000/6000 [==============================] - 17s 3ms/step - loss: 0.2074 - accuracy: 0.9505 - val_loss: 0.2072 - val_accuracy: 0.9489\n",
            "Epoch 50/50\n",
            "6000/6000 [==============================] - 17s 3ms/step - loss: 0.2002 - accuracy: 0.9520 - val_loss: 0.2052 - val_accuracy: 0.9483\n",
            "861.9948406219482\n"
          ],
          "name": "stdout"
        }
      ]
    },
    {
      "cell_type": "code",
      "metadata": {
        "id": "xhdPhjx6lLpP"
      },
      "source": [
        ""
      ],
      "execution_count": null,
      "outputs": []
    }
  ]
}