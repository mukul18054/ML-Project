{
  "nbformat": 4,
  "nbformat_minor": 0,
  "metadata": {
    "accelerator": "GPU",
    "colab": {
      "name": "MLproj.ipynb",
      "provenance": [],
      "collapsed_sections": []
    },
    "kernelspec": {
      "display_name": "Python 3",
      "name": "python3"
    }
  },
  "cells": [
    {
      "cell_type": "code",
      "metadata": {
        "colab": {
          "base_uri": "https://localhost:8080/"
        },
        "id": "QDe8_7SOTI8E",
        "outputId": "81bf5ff8-3e88-44ba-b5b5-f698d23e44b2"
      },
      "source": [
        "#ignore this (used google colab so have to read data from google drive)\n",
        "from google.colab import drive\n",
        "drive.mount('/content/gdrive')"
      ],
      "execution_count": 1,
      "outputs": [
        {
          "output_type": "stream",
          "text": [
            "Mounted at /content/gdrive\n"
          ],
          "name": "stdout"
        }
      ]
    },
    {
      "cell_type": "code",
      "metadata": {
        "colab": {
          "base_uri": "https://localhost:8080/"
        },
        "id": "ZsGuOoKqTLUy",
        "outputId": "0f32566b-e326-48c9-ed7b-39b9af32c290"
      },
      "source": [
        "#ignore this (used google colab so have to read data from google drive)\r\n",
        "cd gdrive"
      ],
      "execution_count": 2,
      "outputs": [
        {
          "output_type": "stream",
          "text": [
            "/content/gdrive\n"
          ],
          "name": "stdout"
        }
      ]
    },
    {
      "cell_type": "code",
      "metadata": {
        "colab": {
          "base_uri": "https://localhost:8080/"
        },
        "id": "en6J9wGQTNWa",
        "outputId": "4dbc5fff-790a-4ea7-d332-bf1c837da3eb"
      },
      "source": [
        "#ignore this (used google colab so have to read data from google drive)\r\n",
        "cd My\\ Drive"
      ],
      "execution_count": 3,
      "outputs": [
        {
          "output_type": "stream",
          "text": [
            "/content/gdrive/My Drive\n"
          ],
          "name": "stdout"
        }
      ]
    },
    {
      "cell_type": "code",
      "metadata": {
        "colab": {
          "base_uri": "https://localhost:8080/"
        },
        "id": "egg5g7FUTONB",
        "outputId": "576dd92b-682e-44be-e9c2-86d1a6df9880"
      },
      "source": [
        "#ignore this (used google colab so have to read data from google drive)\r\n",
        "cd data"
      ],
      "execution_count": 4,
      "outputs": [
        {
          "output_type": "stream",
          "text": [
            "/content/gdrive/My Drive/data\n"
          ],
          "name": "stdout"
        }
      ]
    },
    {
      "cell_type": "code",
      "metadata": {
        "id": "w_DiT78fSx62"
      },
      "source": [
        "import h5py\n",
        "import numpy as np\n",
        "import matplotlib.pyplot as plt\n",
        "import pandas as pd\n",
        "import random\n",
        "import seaborn as sns\n",
        "from sklearn.preprocessing import LabelEncoder\n",
        "from time import time\n",
        "def oneDigitY(y):\n",
        "    \"\"\"\n",
        "    \n",
        "\n",
        "    Parameters\n",
        "    ----------\n",
        "    y : np.array\n",
        "    of 2d array shape(n,m)\n",
        "\n",
        "    Returns\n",
        "    -------\n",
        "    1d array (n,)\n",
        "\n",
        "    \"\"\"\n",
        "    n = y.shape[0] \n",
        "    print(n)\n",
        "    newY = np.zeros(n,dtype=int)\n",
        "    for i in range(n):\n",
        "        num = np.where(y[i]==1)\n",
        "        num = num[0][0]\n",
        "        newY[i] = num\n",
        "    return newY\n",
        "    \n",
        "def describeData(X):\n",
        "    \"\"\"\n",
        "    \n",
        "\n",
        "    Parameters\n",
        "    ----------\n",
        "    X : np.array\n",
        "\n",
        "    Returns\n",
        "    -------\n",
        "    None.\n",
        "\n",
        "    \"\"\"\n",
        "    X = pd.DataFrame(X)\n",
        "    print(X[1:4])\n",
        "    return X.describe()\n",
        "\n",
        "def classFreqPlot(y):\n",
        "    \"\"\"\n",
        "    Parameters\n",
        "    ----------\n",
        "    y : np.array\n",
        "    of shape (n,)\n",
        "\n",
        "    Returns\n",
        "    -------\n",
        "    None.\n",
        "\n",
        "    \"\"\"\n",
        "    y = pd.DataFrame(y)\n",
        "    \n",
        "    classFreq = y[0].value_counts()\n",
        "    print(classFreq)\n",
        "    classFreq.plot.barh()\n",
        "    plt.show()\n",
        "    \n",
        "def displayNHandWrittenDigit(n,X,y):\n",
        "    fig=plt.figure(figsize=(8, 8))\n",
        "    columns = 4\n",
        "    rows = 4\n",
        "    # print(\"shape of y\",y.shape)\n",
        "    for i in range(1, columns*rows +1):\n",
        "        rndI = random.randint(1,4100)\n",
        "        image28x28 = np.reshape(X[rndI],(28,28))\n",
        "        fig.add_subplot(rows, columns, i)\n",
        "        plt.imshow(image28x28, cmap=\"gray\")\n",
        "        # num = np.where(y[rndI]==1)\n",
        "        # print(num)\n",
        "        # print(num[0][0])\n",
        "        num = y[rndI]\n",
        "        plt.title(\"Number = {}\".format(num))\n",
        "    fig.tight_layout()\n",
        "    plt.show()\n",
        "\n",
        "def pre_process(dataset):\n",
        "    \"\"\"\n",
        "    Reading the file and preprocessing the input and output.\n",
        "    Note that you will encode any string value and/or remove empty entries in this function only.\n",
        "    Further any pre processing steps have to be performed in this function too. \n",
        "\n",
        "    Parameters\n",
        "    ----------\n",
        "\n",
        "    dataset : integer with acceptable values 0, 1, or 2\n",
        "    0 -> Dataset A\n",
        "    1 -> Dataset B\n",
        "    2 -> Dataset C\n",
        "    \n",
        "    Returns\n",
        "    -------\n",
        "    X : 2-dimensional numpy array of shape (n_samples, n_features)\n",
        "    y : 2-dimensional numpy array of shape (n_samples,)\n",
        "    \"\"\"\n",
        "\n",
        "    # reading data file\n",
        "    \n",
        "    \n",
        "    # np.empty creates an empty array only. You have to replace this with your code.\n",
        "    X = np.empty((0,0))\n",
        "    y = np.empty((0))\n",
        "\n",
        "    if dataset == 0:\n",
        "        df = pd.read_csv ('train.csv')\n",
        "\n",
        "        df.dropna(inplace=True)\n",
        "        #shuffling both x and y \n",
        "        df = df.sample(frac=1,  random_state = 0).reset_index(drop=True)\n",
        "        # spliting back to x and y\n",
        "        \n",
        "        #first column is label\n",
        "        dataAY = df.iloc[1:,0]\n",
        "        \n",
        "        #rest are features\n",
        "        dataAX = df.iloc[1:,1:]\n",
        "        print(dataAX)\n",
        "        print(dataAY)\n",
        "        X = np.array(dataAX)\n",
        "        y = np.array(dataAY)\n",
        "    \n",
        "        # #Using Pearson Correlation\n",
        "        # plt.figure(figsize=(12,10))\n",
        "        # cor = df.corr()\n",
        "        # sns.heatmap(cor, annot=True, cmap=plt.cm.CMRmap_r)\n",
        "        # plt.show()\n",
        "    elif(dataset == 1):\n",
        "        df = pd.read_csv ('emnist-digits-train.csv')\n",
        "\n",
        "        df.dropna(inplace=True)\n",
        "        #shuffling both x and y \n",
        "        df = df.sample(frac=1,  random_state = 0).reset_index(drop=True)\n",
        "        # spliting back to x and y\n",
        "        \n",
        "        #first column is label\n",
        "        dataAY = df.iloc[1:,0]\n",
        "        \n",
        "        #rest are features\n",
        "        dataAX = df.iloc[1:,1:]\n",
        "        print(dataAX)\n",
        "        print(dataAY)\n",
        "        X = np.array(dataAX)\n",
        "        y = np.array(dataAY)\n",
        "  \n",
        "\n",
        "        \n",
        "    return X, y"
      ],
      "execution_count": 63,
      "outputs": []
    },
    {
      "cell_type": "code",
      "metadata": {
        "colab": {
          "base_uri": "https://localhost:8080/",
          "height": 1000
        },
        "id": "0IFzo0f2StUG",
        "outputId": "9bbe4e18-62a8-4cab-82a6-c508235a0966"
      },
      "source": [
        "from sklearn.model_selection import train_test_split\n",
        "import numpy as np\n",
        "import matplotlib.pyplot as plt\n",
        "import pandas as pd\n",
        "from sklearn.metrics import accuracy_score\n",
        "\n",
        "from sklearn.metrics import confusion_matrix\n",
        "X,y=pre_process(1)                                    ################### just change the dataset from here \n",
        "######################################################################### use 0 for mnist and 1 for emnist\n",
        "print(X.shape)\n",
        "print(y.shape)\n",
        "displayNHandWrittenDigit(20,X,y)\n",
        "\n",
        "#Each pixel value frequency\n",
        "# descTable = describeData(X)\n",
        "# print(descTable)\n",
        "\n",
        "\n",
        "print(\"class freq for y after stratified sampling\")\n",
        "classFreqPlot(y)\n",
        "\n",
        "print(\"initial features:\",len(X[0]))\n",
        "\n",
        "# #dropping the column with all 0's as it won't help our model\n",
        "# df = pd.DataFrame(X)\n",
        "# df = df.loc[:, (df != 0).any(axis=0)]\n",
        "# X = df.iloc[:, :]\n",
        "# X = np.array(X)\n",
        "\n",
        "# print(\"features after deleting column with all 0:\",len(X[0]))\n",
        "\n",
        "# from sklearn.preprocessing import StandardScaler\n",
        "# X = StandardScaler().fit_transform(X)\n",
        "\n",
        "# pre processing applying scaling for tsne so that we get a good plot\n",
        "from sklearn.preprocessing import StandardScaler\n",
        "X = StandardScaler().fit_transform(X)\n",
        "############ always run ends ##################################\n"
      ],
      "execution_count": 64,
      "outputs": [
        {
          "output_type": "stream",
          "text": [
            "        0  0.1  0.2  0.3  0.4  0.5  ...  0.515  0.516  0.517  0.518  0.519  0.520\n",
            "1       0    0    0    0    0    0  ...      0      0      0      0      0      0\n",
            "2       0    0    0    0    0    0  ...      0      0      0      0      0      0\n",
            "3       0    0    0    0    0    0  ...      0      0      0      0      0      0\n",
            "4       0    0    0    0    0    0  ...      0      0      0      0      0      0\n",
            "5       0    0    0    0    0    0  ...      0      0      0      0      0      0\n",
            "...    ..  ...  ...  ...  ...  ...  ...    ...    ...    ...    ...    ...    ...\n",
            "239994  0    0    0    0    0    0  ...      0      0      0      0      0      0\n",
            "239995  0    0    0    0    0    0  ...      0      0      0      0      0      0\n",
            "239996  0    0    0    0    0    0  ...      0      0      0      0      0      0\n",
            "239997  0    0    0    0    0    0  ...      0      0      0      0      0      0\n",
            "239998  0    0    0    0    0    0  ...      0      0      0      0      0      0\n",
            "\n",
            "[239998 rows x 784 columns]\n",
            "1         1\n",
            "2         7\n",
            "3         9\n",
            "4         6\n",
            "5         0\n",
            "         ..\n",
            "239994    2\n",
            "239995    0\n",
            "239996    9\n",
            "239997    0\n",
            "239998    8\n",
            "Name: 8, Length: 239998, dtype: int64\n",
            "(239998, 784)\n",
            "(239998,)\n"
          ],
          "name": "stdout"
        },
        {
          "output_type": "display_data",
          "data": {
            "image/png": "[encoded data removed]",
            "text/plain": [
              "<Figure size 576x576 with 16 Axes>"
            ]
          },
          "metadata": {
            "tags": [],
            "needs_background": "light"
          }
        },
        {
          "output_type": "stream",
          "text": [
            "class freq for y after stratified sampling\n",
            "7    24000\n",
            "6    24000\n",
            "5    24000\n",
            "4    24000\n",
            "3    24000\n",
            "2    24000\n",
            "1    24000\n",
            "0    24000\n",
            "9    23999\n",
            "8    23999\n",
            "Name: 0, dtype: int64\n"
          ],
          "name": "stdout"
        },
        {
          "output_type": "display_data",
          "data": {
            "image/png": "[encoded data removed]",
            "text/plain": [
              "<Figure size 432x288 with 1 Axes>"
            ]
          },
          "metadata": {
            "tags": [],
            "needs_background": "light"
          }
        },
        {
          "output_type": "stream",
          "text": [
            "initial features: 784\n"
          ],
          "name": "stdout"
        }
      ]
    },
    {
      "cell_type": "code",
      "metadata": {
        "colab": {
          "base_uri": "https://localhost:8080/",
          "height": 931
        },
        "id": "98Gcg8F1SoZv",
        "outputId": "a4a0788c-6f11-4398-a565-27508560996d"
      },
      "source": [
        "\n",
        "###################### PCA  do X = (X - mean(X)) / std(X).  ###############\n",
        "from sklearn.decomposition import PCA\n",
        "pca=PCA(50) # else some column will have std as 0 and due to which divide by 0 error\n",
        "#so it may give SVD did not converge\n",
        "\n",
        "pcaX=pca.fit_transform(X)\n",
        "print(\"Features after PCA:\",len(pcaX[0]))\n",
        "\n",
        "# #Using Pearson Correlation (after PCA to analyze the correlation between data)\n",
        "# plt.figure(figsize=(32,30))\n",
        "# df = pd.DataFrame(pcaX)\n",
        "# cor = df.corr()\n",
        "# sns.heatmap(cor, annot=True, cmap=plt.cm.CMRmap_r)\n",
        "# plt.show()\n",
        "\n",
        "##################### split ################\n",
        "X_train, X_test, y_train, y_test = train_test_split(pcaX, y,stratify=y,test_size=0.20,random_state = 1)\n",
        "\n",
        "print(\"class freq for ytrain after stratified sampling\")\n",
        "classFreqPlot(y_train)\n",
        "\n",
        "print(\"class freq for ytest after stratified sampling\")\n",
        "classFreqPlot(y_test)\n",
        "##################### split end ################\n"
      ],
      "execution_count": 49,
      "outputs": [
        {
          "output_type": "stream",
          "text": [
            "Features after PCA: 50\n",
            "class freq for ytrain after stratified sampling\n",
            "7    19200\n",
            "6    19200\n",
            "5    19200\n",
            "4    19200\n",
            "3    19200\n",
            "2    19200\n",
            "1    19200\n",
            "0    19200\n",
            "9    19199\n",
            "8    19199\n",
            "Name: 0, dtype: int64\n"
          ],
          "name": "stdout"
        },
        {
          "output_type": "display_data",
          "data": {
            "image/png": "[encoded data removed]",
            "text/plain": [
              "<Figure size 432x288 with 1 Axes>"
            ]
          },
          "metadata": {
            "tags": [],
            "needs_background": "light"
          }
        },
        {
          "output_type": "stream",
          "text": [
            "class freq for ytest after stratified sampling\n",
            "9    4800\n",
            "8    4800\n",
            "7    4800\n",
            "6    4800\n",
            "5    4800\n",
            "4    4800\n",
            "3    4800\n",
            "2    4800\n",
            "1    4800\n",
            "0    4800\n",
            "Name: 0, dtype: int64\n"
          ],
          "name": "stdout"
        },
        {
          "output_type": "display_data",
          "data": {
            "image/png": "[encoded data removed]",
            "text/plain": [
              "<Figure size 432x288 with 1 Axes>"
            ]
          },
          "metadata": {
            "tags": [],
            "needs_background": "light"
          }
        }
      ]
    },
    {
      "cell_type": "code",
      "metadata": {
        "id": "2XyJvKZaSKhe",
        "colab": {
          "base_uri": "https://localhost:8080/",
          "height": 931
        },
        "outputId": "8e7b5693-3408-4ab4-a4b6-5dc18cf4571c"
      },
      "source": [
        "################# SVD ################## (can be ignored, pca is enough)\n",
        "from sklearn.decomposition import TruncatedSVD\n",
        "svd = TruncatedSVD(50)\n",
        "#fit and transform on X\n",
        "svdX = svd.fit_transform(X)\n",
        "print(\"Features after SVD:\",len(svdX[0]))\n",
        "\n",
        "X_train, X_test, y_train, y_test = train_test_split(svdX, y,stratify=y,test_size=0.20,random_state = 1)\n",
        "\n",
        "print(\"class freq for ytrain after stratified sampling\")\n",
        "classFreqPlot(y_train)\n",
        "print(\"class freq for ytest after stratified sampling\")\n",
        "classFreqPlot(y_test)\n"
      ],
      "execution_count": 61,
      "outputs": [
        {
          "output_type": "stream",
          "text": [
            "Features after SVD: 50\n",
            "class freq for ytrain after stratified sampling\n",
            "7    19200\n",
            "6    19200\n",
            "5    19200\n",
            "4    19200\n",
            "3    19200\n",
            "2    19200\n",
            "1    19200\n",
            "0    19200\n",
            "9    19199\n",
            "8    19199\n",
            "Name: 0, dtype: int64\n"
          ],
          "name": "stdout"
        },
        {
          "output_type": "display_data",
          "data": {
            "image/png": "[encoded data removed]",
            "text/plain": [
              "<Figure size 432x288 with 1 Axes>"
            ]
          },
          "metadata": {
            "tags": [],
            "needs_background": "light"
          }
        },
        {
          "output_type": "stream",
          "text": [
            "class freq for ytest after stratified sampling\n",
            "9    4800\n",
            "8    4800\n",
            "7    4800\n",
            "6    4800\n",
            "5    4800\n",
            "4    4800\n",
            "3    4800\n",
            "2    4800\n",
            "1    4800\n",
            "0    4800\n",
            "Name: 0, dtype: int64\n"
          ],
          "name": "stdout"
        },
        {
          "output_type": "display_data",
          "data": {
            "image/png": "[encoded data removed]",
            "text/plain": [
              "<Figure size 432x288 with 1 Axes>"
            ]
          },
          "metadata": {
            "tags": [],
            "needs_background": "light"
          }
        }
      ]
    },
    {
      "cell_type": "code",
      "metadata": {
        "colab": {
          "base_uri": "https://localhost:8080/",
          "height": 368
        },
        "id": "eluuipw-_fqF",
        "outputId": "61d2f9b2-d1ac-4d88-9324-031c0c352eaa"
      },
      "source": [
        "##TSNE for visualization\n",
        "from sklearn.manifold import TSNE\n",
        "tX_train = TSNE(n_components=2).fit_transform(X_train[:3360]) #taking only first 3360 data for visualization\n",
        "\n",
        "\n",
        "#adding the label\n",
        "matYtrain = np.mat(y_train[:3360]).transpose()\n",
        "XY_train = np.array(np.hstack((tX_train, matYtrain)),dtype = float)\n",
        "print(XY_train.shape)\n",
        "print(XY_train[2])\n",
        "import seaborn as sns\n",
        "sns.scatterplot(XY_train[:,0],XY_train[:,1],hue=XY_train[:,2], palette=\"bright\")"
      ],
      "execution_count": 37,
      "outputs": [
        {
          "output_type": "stream",
          "text": [
            "(3360, 3)\n",
            "[-1.35253465 -4.95368099  8.        ]\n"
          ],
          "name": "stdout"
        },
        {
          "output_type": "stream",
          "text": [
            "/usr/local/lib/python3.6/dist-packages/seaborn/_decorators.py:43: FutureWarning: Pass the following variables as keyword args: x, y. From version 0.12, the only valid positional argument will be `data`, and passing other arguments without an explicit keyword will result in an error or misinterpretation.\n",
            "  FutureWarning\n"
          ],
          "name": "stderr"
        },
        {
          "output_type": "execute_result",
          "data": {
            "text/plain": [
              "<matplotlib.axes._subplots.AxesSubplot at 0x7f15f623f7f0>"
            ]
          },
          "metadata": {
            "tags": []
          },
          "execution_count": 37
        },
        {
          "output_type": "display_data",
          "data": {
            "image/png": "[encoded data removed]",
            "text/plain": [
              "<Figure size 432x288 with 1 Axes>"
            ]
          },
          "metadata": {
            "tags": [],
            "needs_background": "light"
          }
        }
      ]
    },
    {
      "cell_type": "code",
      "metadata": {
        "colab": {
          "base_uri": "https://localhost:8080/"
        },
        "id": "hKRyWr-FSh4k",
        "outputId": "4a393be9-8ee7-4fc1-b611-3ea2727d1b69"
      },
      "source": [
        "start = time()\n",
        "####################### now using GNB ################################# (bad with 50d)\n",
        "from sklearn.naive_bayes import GaussianNB\n",
        "classifier = GaussianNB()\n",
        "#training on X_train\n",
        "classifier.fit(X_train, y_train)    \n",
        "# Predict on X_test\n",
        "y_pred = classifier.predict(X_test)\n",
        "#for accuracy using sklearn accuracy_score\n",
        "AccuracyScore = accuracy_score(y_test, y_pred)\n",
        "print(\"Testing accuracy:\", AccuracyScore)\n",
        "print(time() - start)"
      ],
      "execution_count": 38,
      "outputs": [
        {
          "output_type": "stream",
          "text": [
            "Testing accuracy: 0.7514791666666667\n",
            "0.31192517280578613\n"
          ],
          "name": "stdout"
        }
      ]
    },
    {
      "cell_type": "code",
      "metadata": {
        "colab": {
          "base_uri": "https://localhost:8080/"
        },
        "id": "p_nbAeqhSfLl",
        "outputId": "da502429-fa1a-472f-da9d-675d2d16b04c"
      },
      "source": [
        "start = time()\n",
        "#######################  grid search on D.T #################################\n",
        "from sklearn.model_selection import GridSearchCV\n",
        "from sklearn.tree import DecisionTreeClassifier\n",
        "\n",
        "grid_param = {\n",
        "    'max_depth': [3, 6, 9, 11,13, 15, 21],\n",
        "    'criterion': ['gini']\n",
        "    }\n",
        "gdsrcv = GridSearchCV(estimator=DecisionTreeClassifier(), param_grid=grid_param, scoring='accuracy', n_jobs=-1)\n",
        "gdsrcv.fit(X_train, y_train)\n",
        "best_parameters = gdsrcv.best_params_\n",
        "print(best_parameters)\n",
        "print(time() - start)"
      ],
      "execution_count": 39,
      "outputs": [
        {
          "output_type": "stream",
          "text": [
            "{'criterion': 'gini', 'max_depth': 21}\n",
            "332.55031275749207\n"
          ],
          "name": "stdout"
        }
      ]
    },
    {
      "cell_type": "code",
      "metadata": {
        "colab": {
          "base_uri": "https://localhost:8080/"
        },
        "id": "xI1M4FGKScGt",
        "outputId": "e13de213-7dd3-498f-b870-fe68269a590d"
      },
      "source": [
        "start = time()\n",
        "#bad with 50D\n",
        "from sklearn.tree import DecisionTreeClassifier\n",
        "classifier = DecisionTreeClassifier(max_depth = 21, criterion = 'gini', random_state = 1,class_weight='balanced')\n",
        "classifier.fit(X_train, y_train)        \n",
        "# Predict on X_test\n",
        "y_pred = classifier.predict(X_test)\n",
        "#for accuracy using sklearn accuracy_score\n",
        "AccuracyScore = accuracy_score(y_test, y_pred)\n",
        "print(\"Testing accuracy:\", AccuracyScore)\n",
        "print(time() - start)"
      ],
      "execution_count": 40,
      "outputs": [
        {
          "output_type": "stream",
          "text": [
            "Testing accuracy: 0.8671458333333333\n",
            "25.14717674255371\n"
          ],
          "name": "stdout"
        }
      ]
    },
    {
      "cell_type": "code",
      "metadata": {
        "colab": {
          "base_uri": "https://localhost:8080/"
        },
        "id": "tFJ9mmAMS636",
        "outputId": "3bc8492c-cfe4-43b0-d505-2590f377cb9d"
      },
      "source": [
        "start = time()\n",
        "#good with 50D\n",
        "#fitting and predicting using logistic on train and test data\n",
        "from sklearn.linear_model import LogisticRegression\n",
        "clf = LogisticRegression(random_state=0, n_jobs = -1, max_iter = 1000)\n",
        "clf.fit(X_train, y_train)\n",
        "y_pred = clf.predict(X_test)\n",
        "\n",
        "#for accuracy using sklearn accuracy_score\n",
        "AccuracyScore = accuracy_score(y_test, y_pred)\n",
        "print(\"Testing accuracy:\", AccuracyScore)\n",
        "print(time() - start)"
      ],
      "execution_count": 41,
      "outputs": [
        {
          "output_type": "stream",
          "text": [
            "Testing accuracy: 0.9273541666666667\n",
            "117.11257576942444\n"
          ],
          "name": "stdout"
        }
      ]
    },
    {
      "cell_type": "code",
      "metadata": {
        "id": "MPqLS_uVSZlm"
      },
      "source": [
        "######################### Random forest after Gridsearch ##########################3\n",
        "from sklearn.model_selection import GridSearchCV\n",
        "from sklearn.ensemble import RandomForestClassifier\n",
        "grid_param = {\n",
        "    'n_estimators': [10, 50, 100, 300, 700],\n",
        "    'max_depth': [3, 6, 9, 11,13, 15, 21],\n",
        "    'criterion': ['gini'],\n",
        "    'bootstrap': [True]\n",
        "}\n",
        "\n",
        "gdsrcv = GridSearchCV(estimator=RandomForestClassifier(), param_grid=grid_param, scoring='accuracy', cv=5, n_jobs=-1)\n",
        "gdsrcv.fit(X_train, y_train)\n",
        "best_parameters = gdsrcv.best_params_\n",
        "print(best_parameters)"
      ],
      "execution_count": null,
      "outputs": []
    },
    {
      "cell_type": "code",
      "metadata": {
        "colab": {
          "base_uri": "https://localhost:8080/"
        },
        "id": "5yZix83JSW9q",
        "outputId": "ee4b63eb-736b-406f-b3c2-109ccf727550"
      },
      "source": [
        "start = time()\n",
        "from sklearn.ensemble import RandomForestClassifier\n",
        "classifier = RandomForestClassifier(max_depth = 15,bootstrap = True, n_estimators = 1000, criterion = 'gini', random_state = 0,n_jobs = -1)\n",
        "classifier.fit(X_train, y_train)\n",
        "\n",
        "y_pred = classifier.predict(X_test)\n",
        "#for accuracy using sklearn accuracy_score\n",
        "AccuracyScore = accuracy_score(y_test, y_pred)\n",
        "print(\"Testing accuracy:\", AccuracyScore)\n",
        "#30D - 92, 50D - 93.9\n",
        "print(time() - start)"
      ],
      "execution_count": 42,
      "outputs": [
        {
          "output_type": "stream",
          "text": [
            "Testing accuracy: 0.9537916666666667\n",
            "1237.2547307014465\n"
          ],
          "name": "stdout"
        }
      ]
    },
    {
      "cell_type": "code",
      "metadata": {
        "colab": {
          "base_uri": "https://localhost:8080/"
        },
        "id": "_SYR5uJrXdbJ",
        "outputId": "e9c5d44b-a41d-4b0b-9cfe-6146832a0fd3"
      },
      "source": [
        "start = time()\n",
        "# Training the K-NN model on the Training set\n",
        "from sklearn.neighbors import KNeighborsClassifier\n",
        "classifier = KNeighborsClassifier(n_neighbors = 5, metric = 'minkowski',n_jobs = -1)\n",
        "classifier.fit(X_train, y_train)\n",
        "# Predicting the Test set results\n",
        "y_pred = classifier.predict(X_test)\n",
        "#for accuracy using sklearn accuracy_score\n",
        "AccuracyScore = accuracy_score(y_test, y_pred)\n",
        "print(\"Testing accuracy:\", AccuracyScore)\n",
        "#30D - 97, 50D - 97.3\n",
        "print(time() - start)"
      ],
      "execution_count": 43,
      "outputs": [
        {
          "output_type": "stream",
          "text": [
            "Testing accuracy: 0.9738333333333333\n",
            "561.5915329456329\n"
          ],
          "name": "stdout"
        }
      ]
    },
    {
      "cell_type": "code",
      "metadata": {
        "colab": {
          "base_uri": "https://localhost:8080/"
        },
        "id": "FqvsMUn_hXZc",
        "outputId": "0f860009-86c0-4dc3-b0fa-34301d06312d"
      },
      "source": [
        "start = time()\n",
        "#SVC classifier\n",
        "from sklearn.svm import SVC\n",
        "classifier = SVC(probability=True,random_state=1)\n",
        "classifier.fit(X_train, y_train)\n",
        "# Predicting the Test set results\n",
        "y_pred = classifier.predict(X_test)\n",
        "#for accuracy using sklearn accuracy_score\n",
        "AccuracyScore = accuracy_score(y_test, y_pred)\n",
        "print(\"Testing accuracy:\", AccuracyScore)\n",
        "#30D - 0.96 , 50D - 96.6\n",
        "print(time() - start)\n",
        "\n",
        "#you can stop it early after around 7 mins (you'll get almost same accuracy)"
      ],
      "execution_count": 44,
      "outputs": [
        {
          "output_type": "stream",
          "text": [
            "Testing accuracy: 0.9835208333333333\n",
            "1744.4068450927734\n"
          ],
          "name": "stdout"
        }
      ]
    },
    {
      "cell_type": "code",
      "metadata": {
        "colab": {
          "base_uri": "https://localhost:8080/"
        },
        "id": "F17RJR4yi2fu",
        "outputId": "c43c79a9-2731-4eb4-9bb2-cf938a0d2a49"
      },
      "source": [
        "from time import time\n",
        "start = time()\n",
        "from sklearn.neural_network import MLPClassifier\n",
        "classifier = MLPClassifier(hidden_layer_sizes=(200, ), random_state=1 ,max_iter=2000, learning_rate_init=0.01,warm_start=True)\n",
        "classifier.fit(X_train, y_train)\n",
        "# Predicting the Test set results\n",
        "# print(X_train.shape)\n",
        "y_pred = classifier.predict(X_test)\n",
        "#for accuracy using sklearn accuracy_score\n",
        "AccuracyScore = accuracy_score(y_test, y_pred)\n",
        "print(\"Testing accuracy:\", AccuracyScore)\n",
        "#30D - 0.972, 50D - 97.262\n",
        "print(time() - start)\n",
        "#stopped it early other wise it'll take more than printed time to run for all the iterations and will also give better accuracy"
      ],
      "execution_count": 62,
      "outputs": [
        {
          "output_type": "stream",
          "text": [
            "Testing accuracy: 0.976\n",
            "94.03480052947998\n"
          ],
          "name": "stdout"
        }
      ]
    },
    {
      "cell_type": "code",
      "metadata": {
        "colab": {
          "base_uri": "https://localhost:8080/"
        },
        "id": "U9EqWSLAUK3M",
        "outputId": "dedd69af-aa3c-4ba2-b59f-fb167156bc56"
      },
      "source": [
        "##run this part after reading the data (dont run pca and svd before this)\n",
        "from time import time\n",
        "start = time()\n",
        "############ also using keras #######3\n",
        "import keras\n",
        "# from keras.datasets import mnist\n",
        "from keras.models import Sequential\n",
        "from keras.layers import Dense, Dropout, Flatten, Conv2D, MaxPooling2D\n",
        "from keras import backend as k\n",
        "from keras.datasets import mnist\n",
        "from keras.utils import np_utils\n",
        "#load mnist dataset\n",
        "\n",
        "X_train, X_test, y_train, y_test = train_test_split(X, y,stratify=y,test_size=0.20,random_state = 1)\n",
        "##################### split end ################\n",
        "print(\"X_train shape\", X_train.shape)\n",
        "print(\"y_train shape\", y_train.shape)\n",
        "print(\"X_test shape\", X_test.shape)\n",
        "print(\"y_test shape\", y_test.shape)\n",
        "#reshaping\n",
        "X_train = X_train.reshape(X_train.shape[0], 28, 28, 1)\n",
        "X_test = X_test.reshape(X_test.shape[0], 28, 28, 1)\n",
        "input_shape = (28, 28, 1)\n",
        "print(\"X_train shape\", X_train.shape)\n",
        "print(\"y_train shape\", y_train.shape)\n",
        "print(\"X_test shape\", X_test.shape)\n",
        "print(\"y_test shape\", y_test.shape)\n",
        "#more reshaping\n",
        "X_train = X_train.astype('float32')\n",
        "X_test = X_test.astype('float32')\n",
        "X_train /= 255\n",
        "X_test /= 255\n",
        "print('X_train shape:', X_train.shape)\n",
        "print(X_train.shape[0], 'train samples')\n",
        "print(X_test.shape[0], 'test samples')\n",
        "#set number of categories\n",
        "num_category = 10\n",
        "print(np.unique(y_train, return_counts=True))\n",
        "# convert class vectors to binary class matrices\n",
        "y_train = keras.utils.to_categorical(y_train, num_category)\n",
        "y_test = keras.utils.to_categorical(y_test, num_category)\n",
        "y_train[0]\n",
        "\n",
        "##model building for assignment only\n",
        "model = Sequential()\n",
        "\n",
        "# #flatten since too many dimensions, we only want a classification output\n",
        "model.add(Flatten())\n",
        "#fully connected to get all relevant data\n",
        "model.add(Dense(600, activation='tanh'))\n",
        "model.add(Dense(500, activation='tanh'))\n",
        "model.add(Dense(400, activation='tanh'))\n",
        "model.add(Dense(300, activation='tanh'))\n",
        "model.add(Dense(200, activation='tanh'))\n",
        "model.add(Dense(100, activation='tanh'))\n",
        "model.add(Dense(50, activation='tanh'))\n",
        "model.add(Dense(25, activation='tanh'))\n",
        "#output activation softmax\n",
        "model.add(Dense(num_category, activation='softmax'))\n",
        "model.compile(loss=keras.losses.categorical_crossentropy, optimizer=keras.optimizers.Adadelta(), metrics=['accuracy'])\n",
        "\n",
        "batch_size = 100\n",
        "num_epoch = 50\n",
        "#model training\n",
        "model_log = model.fit(X_train, y_train, batch_size=batch_size, epochs=num_epoch, verbose=1, validation_data=(X_test, y_test), workers = 6)\n",
        "print(time()-start)\n",
        "\n",
        "##### if we increase the number of hidden layers then our models get complex and hence we get more accuracy so here we have taken 8 hidden units and batch size is 50\n",
        "# and for epochs = 50, we can see that it's not completely converged and we are getting accuracy of around 84% which can be further increased by increasing the number of epochs, and hidden layer and by decresing the batch size.\n",
        "# to further increase the accuracy we can do the data augmentation of training data by using random fliping, rotation and cropping."
      ],
      "execution_count": 65,
      "outputs": [
        {
          "output_type": "stream",
          "text": [
            "X_train shape (191998, 784)\n",
            "y_train shape (191998,)\n",
            "X_test shape (48000, 784)\n",
            "y_test shape (48000,)\n",
            "X_train shape (191998, 28, 28, 1)\n",
            "y_train shape (191998,)\n",
            "X_test shape (48000, 28, 28, 1)\n",
            "y_test shape (48000,)\n",
            "X_train shape: (191998, 28, 28, 1)\n",
            "191998 train samples\n",
            "48000 test samples\n",
            "(array([0, 1, 2, 3, 4, 5, 6, 7, 8, 9]), array([19200, 19200, 19200, 19200, 19200, 19200, 19200, 19200, 19199,\n",
            "       19199]))\n",
            "Epoch 1/50\n",
            "1920/1920 [==============================] - 8s 4ms/step - loss: 2.2988 - accuracy: 0.1611 - val_loss: 2.2948 - val_accuracy: 0.2571\n",
            "Epoch 2/50\n",
            "1920/1920 [==============================] - 7s 4ms/step - loss: 2.2934 - accuracy: 0.2747 - val_loss: 2.2887 - val_accuracy: 0.3196\n",
            "Epoch 3/50\n",
            "1920/1920 [==============================] - 7s 4ms/step - loss: 2.2871 - accuracy: 0.3245 - val_loss: 2.2812 - val_accuracy: 0.3660\n",
            "Epoch 4/50\n",
            "1920/1920 [==============================] - 7s 4ms/step - loss: 2.2790 - accuracy: 0.3666 - val_loss: 2.2706 - val_accuracy: 0.3665\n",
            "Epoch 5/50\n",
            "1920/1920 [==============================] - 7s 4ms/step - loss: 2.2672 - accuracy: 0.3557 - val_loss: 2.2536 - val_accuracy: 0.3528\n",
            "Epoch 6/50\n",
            "1920/1920 [==============================] - 8s 4ms/step - loss: 2.2475 - accuracy: 0.3436 - val_loss: 2.2219 - val_accuracy: 0.3201\n",
            "Epoch 7/50\n",
            "1920/1920 [==============================] - 7s 4ms/step - loss: 2.2088 - accuracy: 0.3101 - val_loss: 2.1522 - val_accuracy: 0.2821\n",
            "Epoch 8/50\n",
            "1920/1920 [==============================] - 7s 4ms/step - loss: 2.1250 - accuracy: 0.2719 - val_loss: 2.0289 - val_accuracy: 0.2414\n",
            "Epoch 9/50\n",
            "1920/1920 [==============================] - 7s 4ms/step - loss: 2.0008 - accuracy: 0.2380 - val_loss: 1.9254 - val_accuracy: 0.2345\n",
            "Epoch 10/50\n",
            "1920/1920 [==============================] - 7s 4ms/step - loss: 1.9070 - accuracy: 0.2460 - val_loss: 1.8507 - val_accuracy: 0.3012\n",
            "Epoch 11/50\n",
            "1920/1920 [==============================] - 7s 4ms/step - loss: 1.8357 - accuracy: 0.3229 - val_loss: 1.7779 - val_accuracy: 0.3653\n",
            "Epoch 12/50\n",
            "1920/1920 [==============================] - 7s 4ms/step - loss: 1.7577 - accuracy: 0.3777 - val_loss: 1.6879 - val_accuracy: 0.4167\n",
            "Epoch 13/50\n",
            "1920/1920 [==============================] - 7s 4ms/step - loss: 1.6608 - accuracy: 0.4346 - val_loss: 1.5795 - val_accuracy: 0.4824\n",
            "Epoch 14/50\n",
            "1920/1920 [==============================] - 7s 4ms/step - loss: 1.5560 - accuracy: 0.4989 - val_loss: 1.4882 - val_accuracy: 0.5260\n",
            "Epoch 15/50\n",
            "1920/1920 [==============================] - 7s 4ms/step - loss: 1.4715 - accuracy: 0.5311 - val_loss: 1.4243 - val_accuracy: 0.5388\n",
            "Epoch 16/50\n",
            "1920/1920 [==============================] - 7s 4ms/step - loss: 1.4132 - accuracy: 0.5425 - val_loss: 1.3751 - val_accuracy: 0.5560\n",
            "Epoch 17/50\n",
            "1920/1920 [==============================] - 7s 4ms/step - loss: 1.3651 - accuracy: 0.5619 - val_loss: 1.3329 - val_accuracy: 0.5808\n",
            "Epoch 18/50\n",
            "1920/1920 [==============================] - 7s 4ms/step - loss: 1.3227 - accuracy: 0.5858 - val_loss: 1.2940 - val_accuracy: 0.6017\n",
            "Epoch 19/50\n",
            "1920/1920 [==============================] - 7s 4ms/step - loss: 1.2862 - accuracy: 0.6073 - val_loss: 1.2577 - val_accuracy: 0.6220\n",
            "Epoch 20/50\n",
            "1920/1920 [==============================] - 7s 4ms/step - loss: 1.2505 - accuracy: 0.6267 - val_loss: 1.2235 - val_accuracy: 0.6413\n",
            "Epoch 21/50\n",
            "1920/1920 [==============================] - 7s 4ms/step - loss: 1.2146 - accuracy: 0.6472 - val_loss: 1.1911 - val_accuracy: 0.6591\n",
            "Epoch 22/50\n",
            "1920/1920 [==============================] - 7s 4ms/step - loss: 1.1841 - accuracy: 0.6627 - val_loss: 1.1602 - val_accuracy: 0.6770\n",
            "Epoch 23/50\n",
            "1920/1920 [==============================] - 7s 4ms/step - loss: 1.1557 - accuracy: 0.6805 - val_loss: 1.1302 - val_accuracy: 0.6944\n",
            "Epoch 24/50\n",
            "1920/1920 [==============================] - 7s 4ms/step - loss: 1.1250 - accuracy: 0.6991 - val_loss: 1.1004 - val_accuracy: 0.7139\n",
            "Epoch 25/50\n",
            "1920/1920 [==============================] - 7s 4ms/step - loss: 1.0959 - accuracy: 0.7171 - val_loss: 1.0697 - val_accuracy: 0.7343\n",
            "Epoch 26/50\n",
            "1920/1920 [==============================] - 7s 4ms/step - loss: 1.0629 - accuracy: 0.7381 - val_loss: 1.0375 - val_accuracy: 0.7551\n",
            "Epoch 27/50\n",
            "1920/1920 [==============================] - 7s 4ms/step - loss: 1.0305 - accuracy: 0.7574 - val_loss: 1.0034 - val_accuracy: 0.7725\n",
            "Epoch 28/50\n",
            "1920/1920 [==============================] - 7s 4ms/step - loss: 0.9952 - accuracy: 0.7736 - val_loss: 0.9689 - val_accuracy: 0.7851\n",
            "Epoch 29/50\n",
            "1920/1920 [==============================] - 7s 4ms/step - loss: 0.9618 - accuracy: 0.7859 - val_loss: 0.9365 - val_accuracy: 0.7920\n",
            "Epoch 30/50\n",
            "1920/1920 [==============================] - 7s 4ms/step - loss: 0.9306 - accuracy: 0.7914 - val_loss: 0.9077 - val_accuracy: 0.7951\n",
            "Epoch 31/50\n",
            "1920/1920 [==============================] - 7s 4ms/step - loss: 0.9025 - accuracy: 0.7956 - val_loss: 0.8828 - val_accuracy: 0.7984\n",
            "Epoch 32/50\n",
            "1920/1920 [==============================] - 8s 4ms/step - loss: 0.8780 - accuracy: 0.7990 - val_loss: 0.8607 - val_accuracy: 0.8009\n",
            "Epoch 33/50\n",
            "1920/1920 [==============================] - 7s 4ms/step - loss: 0.8560 - accuracy: 0.8016 - val_loss: 0.8410 - val_accuracy: 0.8023\n",
            "Epoch 34/50\n",
            "1920/1920 [==============================] - 7s 4ms/step - loss: 0.8381 - accuracy: 0.8024 - val_loss: 0.8227 - val_accuracy: 0.8046\n",
            "Epoch 35/50\n",
            "1920/1920 [==============================] - 7s 4ms/step - loss: 0.8198 - accuracy: 0.8049 - val_loss: 0.8059 - val_accuracy: 0.8066\n",
            "Epoch 36/50\n",
            "1920/1920 [==============================] - 8s 4ms/step - loss: 0.8058 - accuracy: 0.8057 - val_loss: 0.7904 - val_accuracy: 0.8084\n",
            "Epoch 37/50\n",
            "1920/1920 [==============================] - 8s 4ms/step - loss: 0.7885 - accuracy: 0.8088 - val_loss: 0.7758 - val_accuracy: 0.8106\n",
            "Epoch 38/50\n",
            "1920/1920 [==============================] - 7s 4ms/step - loss: 0.7709 - accuracy: 0.8116 - val_loss: 0.7620 - val_accuracy: 0.8126\n",
            "Epoch 39/50\n",
            "1920/1920 [==============================] - 7s 4ms/step - loss: 0.7589 - accuracy: 0.8130 - val_loss: 0.7491 - val_accuracy: 0.8141\n",
            "Epoch 40/50\n",
            "1920/1920 [==============================] - 8s 4ms/step - loss: 0.7430 - accuracy: 0.8161 - val_loss: 0.7371 - val_accuracy: 0.8163\n",
            "Epoch 41/50\n",
            "1920/1920 [==============================] - 8s 4ms/step - loss: 0.7391 - accuracy: 0.8134 - val_loss: 0.7254 - val_accuracy: 0.8169\n",
            "Epoch 42/50\n",
            "1920/1920 [==============================] - 7s 4ms/step - loss: 0.7222 - accuracy: 0.8185 - val_loss: 0.7142 - val_accuracy: 0.8185\n",
            "Epoch 43/50\n",
            "1920/1920 [==============================] - 7s 4ms/step - loss: 0.7126 - accuracy: 0.8191 - val_loss: 0.7038 - val_accuracy: 0.8207\n",
            "Epoch 44/50\n",
            "1920/1920 [==============================] - 7s 4ms/step - loss: 0.6980 - accuracy: 0.8235 - val_loss: 0.6937 - val_accuracy: 0.8228\n",
            "Epoch 45/50\n",
            "1920/1920 [==============================] - 7s 4ms/step - loss: 0.6939 - accuracy: 0.8221 - val_loss: 0.6843 - val_accuracy: 0.8248\n",
            "Epoch 46/50\n",
            "1920/1920 [==============================] - 7s 4ms/step - loss: 0.6838 - accuracy: 0.8237 - val_loss: 0.6750 - val_accuracy: 0.8259\n",
            "Epoch 47/50\n",
            "1920/1920 [==============================] - 8s 4ms/step - loss: 0.6722 - accuracy: 0.8265 - val_loss: 0.6662 - val_accuracy: 0.8273\n",
            "Epoch 48/50\n",
            "1920/1920 [==============================] - 8s 4ms/step - loss: 0.6668 - accuracy: 0.8265 - val_loss: 0.6577 - val_accuracy: 0.8287\n",
            "Epoch 49/50\n",
            "1920/1920 [==============================] - 8s 4ms/step - loss: 0.6573 - accuracy: 0.8285 - val_loss: 0.6495 - val_accuracy: 0.8303\n",
            "Epoch 50/50\n",
            "1920/1920 [==============================] - 7s 4ms/step - loss: 0.6483 - accuracy: 0.8299 - val_loss: 0.6416 - val_accuracy: 0.8315\n",
            "369.06802773475647\n"
          ],
          "name": "stdout"
        }
      ]
    },
    {
      "cell_type": "code",
      "metadata": {
        "id": "xhdPhjx6lLpP"
      },
      "source": [
        ""
      ],
      "execution_count": null,
      "outputs": []
    }
  ]
}